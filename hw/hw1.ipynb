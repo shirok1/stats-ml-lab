{
 "cells": [
  {
   "cell_type": "code",
   "execution_count": 13,
   "id": "280cf1a0-3af5-4537-b1a6-c09b24b9af79",
   "metadata": {},
   "outputs": [],
   "source": [
    "import pandas as pd\n",
    "import numpy as np\n",
    "import seaborn as sns\n",
    "import matplotlib.pyplot as plt\n",
    "import math\n"
   ]
  },
  {
   "cell_type": "code",
   "execution_count": 4,
   "id": "d433b2bc-4923-4354-af6b-149f97580771",
   "metadata": {},
   "outputs": [
    {
     "data": {
      "text/html": [
       "<div>\n",
       "<style scoped>\n",
       "    .dataframe tbody tr th:only-of-type {\n",
       "        vertical-align: middle;\n",
       "    }\n",
       "\n",
       "    .dataframe tbody tr th {\n",
       "        vertical-align: top;\n",
       "    }\n",
       "\n",
       "    .dataframe thead th {\n",
       "        text-align: right;\n",
       "    }\n",
       "</style>\n",
       "<table border=\"1\" class=\"dataframe\">\n",
       "  <thead>\n",
       "    <tr style=\"text-align: right;\">\n",
       "      <th></th>\n",
       "      <th>胸疼</th>\n",
       "      <th>性别</th>\n",
       "      <th>吸烟与否</th>\n",
       "      <th>是否运动</th>\n",
       "      <th>心脏病</th>\n",
       "    </tr>\n",
       "    <tr>\n",
       "      <th>患者ID</th>\n",
       "      <th></th>\n",
       "      <th></th>\n",
       "      <th></th>\n",
       "      <th></th>\n",
       "      <th></th>\n",
       "    </tr>\n",
       "  </thead>\n",
       "  <tbody>\n",
       "    <tr>\n",
       "      <th>1.0</th>\n",
       "      <td>是</td>\n",
       "      <td>男</td>\n",
       "      <td>否</td>\n",
       "      <td>是</td>\n",
       "      <td>是</td>\n",
       "    </tr>\n",
       "    <tr>\n",
       "      <th>2.0</th>\n",
       "      <td>是</td>\n",
       "      <td>男</td>\n",
       "      <td>是</td>\n",
       "      <td>否</td>\n",
       "      <td>是</td>\n",
       "    </tr>\n",
       "    <tr>\n",
       "      <th>3.0</th>\n",
       "      <td>否</td>\n",
       "      <td>女</td>\n",
       "      <td>是</td>\n",
       "      <td>否</td>\n",
       "      <td>是</td>\n",
       "    </tr>\n",
       "    <tr>\n",
       "      <th>4.0</th>\n",
       "      <td>否</td>\n",
       "      <td>男</td>\n",
       "      <td>否</td>\n",
       "      <td>是</td>\n",
       "      <td>否</td>\n",
       "    </tr>\n",
       "    <tr>\n",
       "      <th>5.0</th>\n",
       "      <td>是</td>\n",
       "      <td>女</td>\n",
       "      <td>是</td>\n",
       "      <td>是</td>\n",
       "      <td>是</td>\n",
       "    </tr>\n",
       "    <tr>\n",
       "      <th>6.0</th>\n",
       "      <td>否</td>\n",
       "      <td>男</td>\n",
       "      <td>是</td>\n",
       "      <td>是</td>\n",
       "      <td>否</td>\n",
       "    </tr>\n",
       "  </tbody>\n",
       "</table>\n",
       "</div>"
      ],
      "text/plain": [
       "     胸疼 性别 吸烟与否 是否运动 心脏病\n",
       "患者ID                    \n",
       "1.0   是  男    否    是   是\n",
       "2.0   是  男    是    否   是\n",
       "3.0   否  女    是    否   是\n",
       "4.0   否  男    否    是   否\n",
       "5.0   是  女    是    是   是\n",
       "6.0   否  男    是    是   否"
      ]
     },
     "execution_count": 4,
     "metadata": {},
     "output_type": "execute_result"
    }
   ],
   "source": [
    "df = pd.read_csv(\"hw1-data.txt\", sep=\" \", index_col=\"患者ID\")\n",
    "df"
   ]
  },
  {
   "cell_type": "code",
   "execution_count": 10,
   "id": "222adee2-5365-40ac-a6ec-e95bb70daa25",
   "metadata": {
    "tags": []
   },
   "outputs": [],
   "source": [
    "def entropy(df: pd.DataFrame, column: str = None):\n",
    "    \"\"\"\n",
    "    计算信息熵\n",
    "    :param df: 数据集，通过传入子集来实现条件信息熵\n",
    "    :param column: 特征名（即列名\n",
    "    \"\"\"\n",
    "    result = 0\n",
    "    target = df.columns[-1]\n",
    "    if column is None:\n",
    "        for target_val in df[target].unique():\n",
    "            p = df[df[target] == target_val].shape[0]/df.shape[0]\n",
    "            result += -p*math.log(p, 2)\n",
    "    else:\n",
    "        for val in df[column].unique():\n",
    "            df_i = df[df[column] == val]\n",
    "            for target_val in df_i[target].unique():\n",
    "                p = df_i[df_i[target] == target_val].shape[0]/df_i.shape[0]\n",
    "                result += -p*math.log(p, 2)\n",
    "    return result\n"
   ]
  },
  {
   "cell_type": "code",
   "execution_count": 20,
   "id": "056227ec-fc9b-476b-8544-790d07baba3b",
   "metadata": {
    "tags": []
   },
   "outputs": [
    {
     "name": "stdout",
     "output_type": "stream",
     "text": [
      "0.9182958340544896\n",
      "胸疼 0.0\n",
      "性别 0.08170416594551044\n",
      "吸烟与否 0.8929822904046434\n",
      "是否运动 0.08170416594551044\n"
     ]
    }
   ],
   "source": [
    "e = entropy(df)\n",
    "print(e)\n",
    "for col in df.columns[:-1]:\\\n",
    "    print(col, entropy(df, col) - e)"
   ]
  },
  {
   "cell_type": "code",
   "execution_count": 21,
   "id": "955f8223-7ff3-42ff-8d74-642211932bdc",
   "metadata": {
    "tags": []
   },
   "outputs": [
    {
     "name": "stdout",
     "output_type": "stream",
     "text": [
      "0.8112781244591328\n",
      "胸疼 0.18872187554086717\n",
      "性别 0.18872187554086717\n",
      "吸烟与否 0.0\n",
      "是否运动 0.18872187554086717\n"
     ]
    },
    {
     "data": {
      "text/html": [
       "<div>\n",
       "<style scoped>\n",
       "    .dataframe tbody tr th:only-of-type {\n",
       "        vertical-align: middle;\n",
       "    }\n",
       "\n",
       "    .dataframe tbody tr th {\n",
       "        vertical-align: top;\n",
       "    }\n",
       "\n",
       "    .dataframe thead th {\n",
       "        text-align: right;\n",
       "    }\n",
       "</style>\n",
       "<table border=\"1\" class=\"dataframe\">\n",
       "  <thead>\n",
       "    <tr style=\"text-align: right;\">\n",
       "      <th></th>\n",
       "      <th>胸疼</th>\n",
       "      <th>性别</th>\n",
       "      <th>吸烟与否</th>\n",
       "      <th>是否运动</th>\n",
       "      <th>心脏病</th>\n",
       "    </tr>\n",
       "    <tr>\n",
       "      <th>患者ID</th>\n",
       "      <th></th>\n",
       "      <th></th>\n",
       "      <th></th>\n",
       "      <th></th>\n",
       "      <th></th>\n",
       "    </tr>\n",
       "  </thead>\n",
       "  <tbody>\n",
       "    <tr>\n",
       "      <th>2.0</th>\n",
       "      <td>是</td>\n",
       "      <td>男</td>\n",
       "      <td>是</td>\n",
       "      <td>否</td>\n",
       "      <td>是</td>\n",
       "    </tr>\n",
       "    <tr>\n",
       "      <th>3.0</th>\n",
       "      <td>否</td>\n",
       "      <td>女</td>\n",
       "      <td>是</td>\n",
       "      <td>否</td>\n",
       "      <td>是</td>\n",
       "    </tr>\n",
       "    <tr>\n",
       "      <th>5.0</th>\n",
       "      <td>是</td>\n",
       "      <td>女</td>\n",
       "      <td>是</td>\n",
       "      <td>是</td>\n",
       "      <td>是</td>\n",
       "    </tr>\n",
       "    <tr>\n",
       "      <th>6.0</th>\n",
       "      <td>否</td>\n",
       "      <td>男</td>\n",
       "      <td>是</td>\n",
       "      <td>是</td>\n",
       "      <td>否</td>\n",
       "    </tr>\n",
       "  </tbody>\n",
       "</table>\n",
       "</div>"
      ],
      "text/plain": [
       "     胸疼 性别 吸烟与否 是否运动 心脏病\n",
       "患者ID                    \n",
       "2.0   是  男    是    否   是\n",
       "3.0   否  女    是    否   是\n",
       "5.0   是  女    是    是   是\n",
       "6.0   否  男    是    是   否"
      ]
     },
     "execution_count": 21,
     "metadata": {},
     "output_type": "execute_result"
    }
   ],
   "source": [
    "smoke_df = df[df[\"吸烟与否\"]==\"是\"]\n",
    "e = entropy(smoke_df)\n",
    "print(e)\n",
    "for col in smoke_df.columns[:-1]:\\\n",
    "    print(col, entropy(smoke_df, col) - e)\n",
    "smoke_df"
   ]
  },
  {
   "cell_type": "code",
   "execution_count": 24,
   "id": "dda5272e-92a7-4c50-b67e-94bcf36eb4c1",
   "metadata": {
    "tags": []
   },
   "outputs": [
    {
     "name": "stdout",
     "output_type": "stream",
     "text": [
      "1.0\n",
      "胸疼 -1.0\n",
      "性别 0.0\n",
      "吸烟与否 0.0\n",
      "是否运动 0.0\n"
     ]
    },
    {
     "data": {
      "text/html": [
       "<div>\n",
       "<style scoped>\n",
       "    .dataframe tbody tr th:only-of-type {\n",
       "        vertical-align: middle;\n",
       "    }\n",
       "\n",
       "    .dataframe tbody tr th {\n",
       "        vertical-align: top;\n",
       "    }\n",
       "\n",
       "    .dataframe thead th {\n",
       "        text-align: right;\n",
       "    }\n",
       "</style>\n",
       "<table border=\"1\" class=\"dataframe\">\n",
       "  <thead>\n",
       "    <tr style=\"text-align: right;\">\n",
       "      <th></th>\n",
       "      <th>胸疼</th>\n",
       "      <th>性别</th>\n",
       "      <th>吸烟与否</th>\n",
       "      <th>是否运动</th>\n",
       "      <th>心脏病</th>\n",
       "    </tr>\n",
       "    <tr>\n",
       "      <th>患者ID</th>\n",
       "      <th></th>\n",
       "      <th></th>\n",
       "      <th></th>\n",
       "      <th></th>\n",
       "      <th></th>\n",
       "    </tr>\n",
       "  </thead>\n",
       "  <tbody>\n",
       "    <tr>\n",
       "      <th>1.0</th>\n",
       "      <td>是</td>\n",
       "      <td>男</td>\n",
       "      <td>否</td>\n",
       "      <td>是</td>\n",
       "      <td>是</td>\n",
       "    </tr>\n",
       "    <tr>\n",
       "      <th>4.0</th>\n",
       "      <td>否</td>\n",
       "      <td>男</td>\n",
       "      <td>否</td>\n",
       "      <td>是</td>\n",
       "      <td>否</td>\n",
       "    </tr>\n",
       "  </tbody>\n",
       "</table>\n",
       "</div>"
      ],
      "text/plain": [
       "     胸疼 性别 吸烟与否 是否运动 心脏病\n",
       "患者ID                    \n",
       "1.0   是  男    否    是   是\n",
       "4.0   否  男    否    是   否"
      ]
     },
     "execution_count": 24,
     "metadata": {},
     "output_type": "execute_result"
    }
   ],
   "source": [
    "smoke_df = df[df[\"吸烟与否\"]==\"否\"]\n",
    "e = entropy(smoke_df)\n",
    "print(e)\n",
    "for col in smoke_df.columns[:-1]:\\\n",
    "    print(col, entropy(smoke_df, col) - e)\n",
    "smoke_df"
   ]
  },
  {
   "cell_type": "code",
   "execution_count": null,
   "id": "eb4f5561-6a12-4d1c-b426-27e74b9110dd",
   "metadata": {},
   "outputs": [],
   "source": []
  }
 ],
 "metadata": {
  "kernelspec": {
   "display_name": "Python 3 (ipykernel)",
   "language": "python",
   "name": "python3"
  },
  "language_info": {
   "codemirror_mode": {
    "name": "ipython",
    "version": 3
   },
   "file_extension": ".py",
   "mimetype": "text/x-python",
   "name": "python",
   "nbconvert_exporter": "python",
   "pygments_lexer": "ipython3",
   "version": "3.11.3"
  }
 },
 "nbformat": 4,
 "nbformat_minor": 5
}
